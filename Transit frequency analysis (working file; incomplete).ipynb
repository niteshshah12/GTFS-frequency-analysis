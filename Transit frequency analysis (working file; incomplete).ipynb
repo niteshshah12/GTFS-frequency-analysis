{
 "cells": [
  {
   "cell_type": "code",
   "execution_count": 6,
   "metadata": {},
   "outputs": [],
   "source": [
    "import pandas as pd\n",
    "import matplotlib.pyplot as plt\n",
    "%matplotlib inline"
   ]
  },
  {
   "cell_type": "markdown",
   "metadata": {},
   "source": [
    "## read data"
   ]
  },
  {
   "cell_type": "code",
   "execution_count": 3,
   "metadata": {},
   "outputs": [
    {
     "data": {
      "text/html": [
       "<div>\n",
       "<style scoped>\n",
       "    .dataframe tbody tr th:only-of-type {\n",
       "        vertical-align: middle;\n",
       "    }\n",
       "\n",
       "    .dataframe tbody tr th {\n",
       "        vertical-align: top;\n",
       "    }\n",
       "\n",
       "    .dataframe thead th {\n",
       "        text-align: right;\n",
       "    }\n",
       "</style>\n",
       "<table border=\"1\" class=\"dataframe\">\n",
       "  <thead>\n",
       "    <tr style=\"text-align: right;\">\n",
       "      <th></th>\n",
       "      <th>Unnamed: 0</th>\n",
       "      <th>stop_id</th>\n",
       "      <th>route_id</th>\n",
       "      <th>interval</th>\n",
       "      <th>count</th>\n",
       "      <th>avg_time_diff</th>\n",
       "      <th>stop_lat</th>\n",
       "      <th>stop_lon</th>\n",
       "    </tr>\n",
       "  </thead>\n",
       "  <tbody>\n",
       "    <tr>\n",
       "      <th>0</th>\n",
       "      <td>0</td>\n",
       "      <td>15</td>\n",
       "      <td>7029</td>\n",
       "      <td>Early</td>\n",
       "      <td>2</td>\n",
       "      <td>60.000000</td>\n",
       "      <td>42.327192</td>\n",
       "      <td>-83.156513</td>\n",
       "    </tr>\n",
       "    <tr>\n",
       "      <th>1</th>\n",
       "      <td>1</td>\n",
       "      <td>15</td>\n",
       "      <td>7029</td>\n",
       "      <td>AM Peak</td>\n",
       "      <td>8</td>\n",
       "      <td>17.133333</td>\n",
       "      <td>42.327192</td>\n",
       "      <td>-83.156513</td>\n",
       "    </tr>\n",
       "    <tr>\n",
       "      <th>2</th>\n",
       "      <td>2</td>\n",
       "      <td>15</td>\n",
       "      <td>7029</td>\n",
       "      <td>Midday</td>\n",
       "      <td>18</td>\n",
       "      <td>17.700000</td>\n",
       "      <td>42.327192</td>\n",
       "      <td>-83.156513</td>\n",
       "    </tr>\n",
       "    <tr>\n",
       "      <th>3</th>\n",
       "      <td>3</td>\n",
       "      <td>15</td>\n",
       "      <td>7029</td>\n",
       "      <td>PM Peak</td>\n",
       "      <td>12</td>\n",
       "      <td>16.450000</td>\n",
       "      <td>42.327192</td>\n",
       "      <td>-83.156513</td>\n",
       "    </tr>\n",
       "    <tr>\n",
       "      <th>4</th>\n",
       "      <td>4</td>\n",
       "      <td>15</td>\n",
       "      <td>7029</td>\n",
       "      <td>Evening</td>\n",
       "      <td>3</td>\n",
       "      <td>30.000000</td>\n",
       "      <td>42.327192</td>\n",
       "      <td>-83.156513</td>\n",
       "    </tr>\n",
       "  </tbody>\n",
       "</table>\n",
       "</div>"
      ],
      "text/plain": [
       "   Unnamed: 0  stop_id  route_id interval  count  avg_time_diff   stop_lat  \\\n",
       "0           0       15      7029    Early      2      60.000000  42.327192   \n",
       "1           1       15      7029  AM Peak      8      17.133333  42.327192   \n",
       "2           2       15      7029   Midday     18      17.700000  42.327192   \n",
       "3           3       15      7029  PM Peak     12      16.450000  42.327192   \n",
       "4           4       15      7029  Evening      3      30.000000  42.327192   \n",
       "\n",
       "    stop_lon  \n",
       "0 -83.156513  \n",
       "1 -83.156513  \n",
       "2 -83.156513  \n",
       "3 -83.156513  \n",
       "4 -83.156513  "
      ]
     },
     "execution_count": 3,
     "metadata": {},
     "output_type": "execute_result"
    }
   ],
   "source": [
    "freq_data=pd.read_csv('output/freq_at_stops_by_routes_data.csv')\n",
    "freq_data.head()"
   ]
  },
  {
   "cell_type": "markdown",
   "metadata": {},
   "source": [
    "## basic blots"
   ]
  },
  {
   "cell_type": "code",
   "execution_count": 7,
   "metadata": {},
   "outputs": [
    {
     "data": {
      "text/plain": [
       "<matplotlib.axes._subplots.AxesSubplot at 0x1b09804e2e8>"
      ]
     },
     "execution_count": 7,
     "metadata": {},
     "output_type": "execute_result"
    },
    {
     "data": {
      "image/png": "[encoded data removed]",
      "text/plain": [
       "<Figure size 432x288 with 1 Axes>"
      ]
     },
     "metadata": {
      "needs_background": "light"
     },
     "output_type": "display_data"
    }
   ],
   "source": [
    "freq_data['avg_time_diff'].hist()"
   ]
  },
  {
   "cell_type": "code",
   "execution_count": 8,
   "metadata": {},
   "outputs": [
    {
     "data": {
      "text/plain": [
       "<matplotlib.axes._subplots.AxesSubplot at 0x1b09d5f3390>"
      ]
     },
     "execution_count": 8,
     "metadata": {},
     "output_type": "execute_result"
    },
    {
     "data": {
      "image/png": "[encoded data removed]",
      "text/plain": [
       "<Figure size 432x288 with 1 Axes>"
      ]
     },
     "metadata": {
      "needs_background": "light"
     },
     "output_type": "display_data"
    }
   ],
   "source": [
    "freq_data['count'].hist()"
   ]
  },
  {
   "cell_type": "code",
   "execution_count": 11,
   "metadata": {},
   "outputs": [
    {
     "data": {
      "text/html": [
       "<div>\n",
       "<style scoped>\n",
       "    .dataframe tbody tr th:only-of-type {\n",
       "        vertical-align: middle;\n",
       "    }\n",
       "\n",
       "    .dataframe tbody tr th {\n",
       "        vertical-align: top;\n",
       "    }\n",
       "\n",
       "    .dataframe thead tr th {\n",
       "        text-align: left;\n",
       "    }\n",
       "\n",
       "    .dataframe thead tr:last-of-type th {\n",
       "        text-align: right;\n",
       "    }\n",
       "</style>\n",
       "<table border=\"1\" class=\"dataframe\">\n",
       "  <thead>\n",
       "    <tr>\n",
       "      <th></th>\n",
       "      <th colspan=\"8\" halign=\"left\">avg_time_diff</th>\n",
       "    </tr>\n",
       "    <tr>\n",
       "      <th></th>\n",
       "      <th>count</th>\n",
       "      <th>mean</th>\n",
       "      <th>std</th>\n",
       "      <th>min</th>\n",
       "      <th>25%</th>\n",
       "      <th>50%</th>\n",
       "      <th>75%</th>\n",
       "      <th>max</th>\n",
       "    </tr>\n",
       "    <tr>\n",
       "      <th>interval</th>\n",
       "      <th></th>\n",
       "      <th></th>\n",
       "      <th></th>\n",
       "      <th></th>\n",
       "      <th></th>\n",
       "      <th></th>\n",
       "      <th></th>\n",
       "      <th></th>\n",
       "    </tr>\n",
       "  </thead>\n",
       "  <tbody>\n",
       "    <tr>\n",
       "      <th>AM Peak</th>\n",
       "      <td>6242.0</td>\n",
       "      <td>18.177988</td>\n",
       "      <td>13.686342</td>\n",
       "      <td>2.733333</td>\n",
       "      <td>9.216667</td>\n",
       "      <td>14.700000</td>\n",
       "      <td>18.045833</td>\n",
       "      <td>65.000000</td>\n",
       "    </tr>\n",
       "    <tr>\n",
       "      <th>Early</th>\n",
       "      <td>5390.0</td>\n",
       "      <td>24.993015</td>\n",
       "      <td>17.058491</td>\n",
       "      <td>0.000000</td>\n",
       "      <td>10.954167</td>\n",
       "      <td>19.750000</td>\n",
       "      <td>38.170833</td>\n",
       "      <td>63.683333</td>\n",
       "    </tr>\n",
       "    <tr>\n",
       "      <th>Evening</th>\n",
       "      <td>4889.0</td>\n",
       "      <td>20.293356</td>\n",
       "      <td>9.328379</td>\n",
       "      <td>0.000000</td>\n",
       "      <td>14.033333</td>\n",
       "      <td>19.650000</td>\n",
       "      <td>25.500000</td>\n",
       "      <td>60.000000</td>\n",
       "    </tr>\n",
       "    <tr>\n",
       "      <th>Late Night</th>\n",
       "      <td>1961.0</td>\n",
       "      <td>9.746005</td>\n",
       "      <td>8.173334</td>\n",
       "      <td>0.000000</td>\n",
       "      <td>6.000000</td>\n",
       "      <td>9.000000</td>\n",
       "      <td>11.666667</td>\n",
       "      <td>45.000000</td>\n",
       "    </tr>\n",
       "    <tr>\n",
       "      <th>Midday</th>\n",
       "      <td>5933.0</td>\n",
       "      <td>19.020265</td>\n",
       "      <td>21.136585</td>\n",
       "      <td>2.450000</td>\n",
       "      <td>9.166667</td>\n",
       "      <td>15.116667</td>\n",
       "      <td>18.433333</td>\n",
       "      <td>280.000000</td>\n",
       "    </tr>\n",
       "    <tr>\n",
       "      <th>PM Peak</th>\n",
       "      <td>6252.0</td>\n",
       "      <td>18.267370</td>\n",
       "      <td>13.572765</td>\n",
       "      <td>2.683333</td>\n",
       "      <td>9.900000</td>\n",
       "      <td>14.566667</td>\n",
       "      <td>18.166667</td>\n",
       "      <td>65.000000</td>\n",
       "    </tr>\n",
       "  </tbody>\n",
       "</table>\n",
       "</div>"
      ],
      "text/plain": [
       "           avg_time_diff                                             \\\n",
       "                   count       mean        std       min        25%   \n",
       "interval                                                              \n",
       "AM Peak           6242.0  18.177988  13.686342  2.733333   9.216667   \n",
       "Early             5390.0  24.993015  17.058491  0.000000  10.954167   \n",
       "Evening           4889.0  20.293356   9.328379  0.000000  14.033333   \n",
       "Late Night        1961.0   9.746005   8.173334  0.000000   6.000000   \n",
       "Midday            5933.0  19.020265  21.136585  2.450000   9.166667   \n",
       "PM Peak           6252.0  18.267370  13.572765  2.683333   9.900000   \n",
       "\n",
       "                                              \n",
       "                  50%        75%         max  \n",
       "interval                                      \n",
       "AM Peak     14.700000  18.045833   65.000000  \n",
       "Early       19.750000  38.170833   63.683333  \n",
       "Evening     19.650000  25.500000   60.000000  \n",
       "Late Night   9.000000  11.666667   45.000000  \n",
       "Midday      15.116667  18.433333  280.000000  \n",
       "PM Peak     14.566667  18.166667   65.000000  "
      ]
     },
     "execution_count": 11,
     "metadata": {},
     "output_type": "execute_result"
    }
   ],
   "source": [
    "freq_data[['interval','avg_time_diff']].groupby('interval').describe()"
   ]
  },
  {
   "cell_type": "code",
   "execution_count": null,
   "metadata": {},
   "outputs": [],
   "source": []
  }
 ],
 "metadata": {
  "kernelspec": {
   "display_name": "Python 3",
   "language": "python",
   "name": "python3"
  },
  "language_info": {
   "codemirror_mode": {
    "name": "ipython",
    "version": 3
   },
   "file_extension": ".py",
   "mimetype": "text/x-python",
   "name": "python",
   "nbconvert_exporter": "python",
   "pygments_lexer": "ipython3",
   "version": "3.7.3"
  }
 },
 "nbformat": 4,
 "nbformat_minor": 2
}
